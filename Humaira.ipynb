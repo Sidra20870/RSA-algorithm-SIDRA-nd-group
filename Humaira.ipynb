{
 "cells": [
  {
   "cell_type": "code",
   "execution_count": null,
   "metadata": {},
   "outputs": [],
   "source": [
    "import networkx as nz\n",
    "G_symmetric = nz.Graph()\n",
    "G_fb = nz.read_edgelist('facebook_combined.txt', create_using = nz.Graph(), nodetype=str)\n",
    "\n",
    "print('press 1 to get number of nodes')\n",
    "print('press 2 to get number of edges')\n",
    "print('press 3 to get number of connected nodes')\n",
    "print('press 4 to draw graph')\n",
    "print('press 5 to get  path')\n",
    "print('press 6 to shortest path ')\n",
    "print('press 7 to get information')\n",
    "print('press 8 to get triadic closure')\n",
    "print('press 9 to get information')\n",
    "print('press 10 to get most connected person')\n",
    "print('press 11 to get mutual connection')\n",
    "print('press 12 to add edge')\n",
    "print('press 13 to add node')\n",
    "\n",
    "ch=input('enter your choice')\n",
    "if ch=='1':\n",
    "    print(G_fb.number_of_nodes()) \n",
    "    print(G_fb.nodes())  \n",
    "\n",
    "if ch=='13':\n",
    "    \n",
    "    person1=input(\"enter person\")\n",
    "    \n",
    "    \n",
    "  \n",
    "    G_fb.add_node(person1)\n",
    "    print('PERSON ADDED SUCCESSFULLY')"
   ]
  }
 ],
 "metadata": {
  "kernelspec": {
   "display_name": "Python 3",
   "language": "python",
   "name": "python3"
  },
  "language_info": {
   "codemirror_mode": {
    "name": "ipython",
    "version": 3
   },
   "file_extension": ".py",
   "mimetype": "text/x-python",
   "name": "python",
   "nbconvert_exporter": "python",
   "pygments_lexer": "ipython3",
   "version": "3.7.4"
  }
 },
 "nbformat": 4,
 "nbformat_minor": 2
}
