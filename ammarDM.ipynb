{
 "cells": [
  {
   "cell_type": "code",
   "execution_count": null,
   "metadata": {},
   "outputs": [],
   "source": [
    "import networkx as nz\n",
    "G_symmetric = nz.Graph()\n",
    "G_fb = nz.read_edgelist('facebook_combined.txt', create_using = nz.Graph(), nodetype=str)\n",
    "\n",
    "\n",
    "print('press 3 to get number of connected nodes')\n",
    "print('press 10 to get most connected person')\n",
    "print('press 11 to get mutual connection')\n",
    "\n",
    "\n",
    "ch=input('enter your choice')\n",
    "if ch=='3':\n",
    "    count=0\n",
    "    nodee=input('enter the node')\n",
    "    for n in G_fb.neighbors(nodee):\n",
    "        print(n, end=' ')\n",
    "        count+=1\n",
    "    print(\"no.of edges=\",count)\n",
    "if ch=='10': \n",
    "    li=[]\n",
    "    maxx=0\n",
    "    mn=0\n",
    "    minnode=0\n",
    "    minn=10\n",
    "    for i in G_fb:\n",
    "        li=list(nz.neighbors(G_fb,i))\n",
    "        if(maxx<len(li)):\n",
    "            maxx=len(li)\n",
    "            mn=i\n",
    "        if(minn>len(li)):\n",
    "            minn=len(li)\n",
    "            minnode=i\n",
    "    print('most connected person')\n",
    "    print(\"PERSON= \"+str(mn)+\"  connections= \"+str(maxx))\n",
    "    print('least connected person')\n",
    "    print(\"PERSON= \"+str(minnode)+\"  connections= \"+str(minn))\n",
    "    \n",
    "if ch=='11':\n",
    "    p1=input(\"person A?\")\n",
    "    p2=input(\"person B?\")\n",
    "    print('MUTUAL CONNECTIONS')\n",
    "  \n",
    "    \n",
    "    print(sorted(nz.common_neighbors(G_fb, p1,p2)))\n",
    "    "
   ]
  },
  {
   "cell_type": "code",
   "execution_count": null,
   "metadata": {},
   "outputs": [],
   "source": []
  },
  {
   "cell_type": "code",
   "execution_count": null,
   "metadata": {},
   "outputs": [],
   "source": []
  }
 ],
 "metadata": {
  "kernelspec": {
   "display_name": "Python 3",
   "language": "python",
   "name": "python3"
  },
  "language_info": {
   "codemirror_mode": {
    "name": "ipython",
    "version": 3
   },
   "file_extension": ".py",
   "mimetype": "text/x-python",
   "name": "python",
   "nbconvert_exporter": "python",
   "pygments_lexer": "ipython3",
   "version": "3.7.6"
  }
 },
 "nbformat": 4,
 "nbformat_minor": 4
}
