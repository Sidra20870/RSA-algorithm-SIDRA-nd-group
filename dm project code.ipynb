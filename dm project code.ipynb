{
 "cells": [
  {
   "cell_type": "code",
   "execution_count": 17,
   "metadata": {},
   "outputs": [
    {
     "name": "stdout",
     "output_type": "stream",
     "text": [
      "press 1 to get number of nodes\n",
      "press 2 to get number of edges\n",
      "press 3 to get number of connected nodes\n",
      "press 4 to draw graph\n",
      "press 5 to get  path\n",
      "press 6 to shortest path \n",
      "press 7 to get information\n",
      "press 8 to get triadic closure\n",
      "press 9 to get information\n",
      "press 10 to get most connected person\n",
      "press 11 to get mutual connection\n",
      "press 12 to add edge\n",
      "press 13 to add node\n",
      "enter your choice 6\n",
      "enter the source\n",
      "8\n",
      "enter the destination\n",
      "0\n",
      "[[8, 0], [8, 7, 6, 5, 4, 3, 2, 1, 0]]\n"
     ]
    }
   ],
   "source": [
    "import networkx as nz\n",
    "G_symmetric = nz.Graph()\n",
    "G_fb = nz.read_edgelist('facebook_combined.txt', create_using = nz.Graph(), nodetype=str)\n",
    "\n",
    "print('press 1 to get number of nodes')\n",
    "print('press 2 to get number of edges')\n",
    "print('press 3 to get number of connected nodes')\n",
    "print('press 4 to draw graph')\n",
    "print('press 5 to get  path')\n",
    "print('press 6 to shortest path ')\n",
    "print('press 7 to get information')\n",
    "print('press 8 to get triadic closure')\n",
    "print('press 9 to get information')\n",
    "print('press 10 to get most connected person')\n",
    "print('press 11 to get mutual connection')\n",
    "print('press 12 to add edge')\n",
    "print('press 13 to add node')\n",
    "\n",
    "ch=input('enter your choice ')\n",
    "if ch=='6':                      #PATH WITH NO REPEATED NODE\n",
    "    \n",
    "    print(\"enter the source\")\n",
    "    source=int(input())\n",
    "    print(\"enter the destination\")\n",
    "    destination=int(input())\n",
    "    if(destination>=source):\n",
    "        G = nz.cycle_graph(destination+1)\n",
    "    else:\n",
    "        G = nz.cycle_graph(source+1)\n",
    "    paths = list(nz.shortest_simple_paths(G, source, destination))    \n",
    "    print(paths)\n",
    "\n",
    "if ch=='7':                             # INFORMATION ABOUT GRAPH\n",
    "    print(nz.info(G_fb))\n",
    "\n",
    "if ch=='8':                             # predict the network\n",
    "    triadic_closure = nz.transitivity(G_fb)\n",
    "    print(\"Triadic closure:\", triadic_closure)\n",
    "\n",
    "if ch=='9':                             # TOTAL SELF LOOP IN A GRAPH\n",
    "    \n",
    "    print(list(nz.nodes_with_selfloops(G_fb))) # In our data set their is no self loop so it will show null.\n"
   ]
  },
  {
   "cell_type": "code",
   "execution_count": null,
   "metadata": {},
   "outputs": [],
   "source": []
  }
 ],
 "metadata": {
  "kernelspec": {
   "display_name": "Python 3",
   "language": "python",
   "name": "python3"
  },
  "language_info": {
   "codemirror_mode": {
    "name": "ipython",
    "version": 3
   },
   "file_extension": ".py",
   "mimetype": "text/x-python",
   "name": "python",
   "nbconvert_exporter": "python",
   "pygments_lexer": "ipython3",
   "version": "3.6.10"
  }
 },
 "nbformat": 4,
 "nbformat_minor": 4
}
