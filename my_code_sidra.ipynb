{
 "cells": [
  {
   "cell_type": "code",
   "execution_count": 2,
   "metadata": {},
   "outputs": [
    {
     "name": "stdout",
     "output_type": "stream",
     "text": [
      "press 1 to get number of nodes\n",
      "press 2 to get number of edges\n",
      "press 3 to get number of connected nodes\n",
      "press 4 to draw graph\n",
      "press 5 to get  path\n",
      "press 6 to least connected person\n",
      "press 7 to get information\n",
      "press 8 to get triadic closure\n",
      "press 9 to get information\n",
      "press 10 to get most connected person\n",
      "press 11 to get mutual connection\n",
      "press 12 to add edge\n",
      "press 13 to add node\n",
      "press 0 for true_network  graph\n",
      "press 00 for spring_layout\n",
      "press 000 for plt size graph\n",
      "enter your choice5\n",
      "source node=?3\n",
      "destination node=?100\n",
      "['3', '0', '100']\n"
     ]
    }
   ],
   "source": [
    "import networkx as nz\n",
    "G_symmetric = nz.Graph()\n",
    "import matplotlib.pyplot as plt\n",
    "G_fb = nz.read_edgelist('facebook_combined.txt', create_using = nz.Graph(), nodetype=str)\n",
    "\n",
    "print('press 1 to get number of nodes')\n",
    "print('press 2 to get number of edges')\n",
    "print('press 3 to get number of connected nodes')\n",
    "print('press 4 to draw graph')\n",
    "print('press 5 to get  path')\n",
    "print('press 6 to least connected person')\n",
    "print('press 7 to get information')\n",
    "print('press 8 to get triadic closure')\n",
    "print('press 9 to get information')\n",
    "print('press 10 to get most connected person')\n",
    "print('press 11 to get mutual connection')\n",
    "print('press 12 to add edge')\n",
    "print('press 13 to add node')\n",
    "\n",
    "print(\"press 0 for true_network  graph\")\n",
    "print(\"press 00 for spring_layout\")\n",
    "print(\"press 000 for plt size graph\")\n",
    "ch=input('enter your choice')\n",
    "if ch=='0':\n",
    "     nz.draw(G_fb,with_labels=True)\n",
    "if ch=='00':\n",
    "    nz.spring_layout(G_fb)\n",
    "    nz.draw_networkx(G_fb)\n",
    "if ch=='000':\n",
    "    plt.figure(figsize=(10,10))\n",
    "    nz.draw_networkx(G_fb)\n",
    "    plt.show()\n",
    "if ch=='5': \n",
    "    s=input(\"source node=?\")\n",
    "    d=input(\"destination node=?\")\n",
    "    print(nz.shortest_path(G_fb,source=s,target=d))"
   ]
  },
  {
   "cell_type": "code",
   "execution_count": null,
   "metadata": {},
   "outputs": [],
   "source": []
  }
 ],
 "metadata": {
  "kernelspec": {
   "display_name": "Python 3",
   "language": "python",
   "name": "python3"
  },
  "language_info": {
   "codemirror_mode": {
    "name": "ipython",
    "version": 3
   },
   "file_extension": ".py",
   "mimetype": "text/x-python",
   "name": "python",
   "nbconvert_exporter": "python",
   "pygments_lexer": "ipython3",
   "version": "3.7.4"
  }
 },
 "nbformat": 4,
 "nbformat_minor": 2
}
